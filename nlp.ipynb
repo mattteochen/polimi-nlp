{
 "cells": [
  {
   "cell_type": "code",
   "execution_count": 1,
   "id": "08f4ac3f",
   "metadata": {},
   "outputs": [
    {
     "name": "stderr",
     "output_type": "stream",
     "text": [
      "/opt/homebrew/Caskroom/miniconda/base/envs/nlp/lib/python3.12/site-packages/tqdm/auto.py:21: TqdmWarning: IProgress not found. Please update jupyter and ipywidgets. See https://ipywidgets.readthedocs.io/en/stable/user_install.html\n",
      "  from .autonotebook import tqdm as notebook_tqdm\n"
     ]
    }
   ],
   "source": [
    "import re\n",
    "from sympy.parsing.latex import parse_latex\n",
    "from sympy import Basic\n",
    "import sympy\n",
    "import numpy as np\n",
    "from pprint import pprint\n",
    "from transformers import AutoTokenizer\n",
    "import random\n",
    "import torch\n",
    "from transformers import AutoTokenizer, AutoModel\n",
    "from sklearn.decomposition import PCA\n",
    "import matplotlib.pyplot as plt\n",
    "from mpl_toolkits.mplot3d import Axes3D"
   ]
  },
  {
   "cell_type": "code",
   "execution_count": 2,
   "id": "a160b54d",
   "metadata": {},
   "outputs": [],
   "source": [
    "from datasets import load_dataset\n",
    "\n",
    "# Login using e.g. `huggingface-cli login` to access this dataset\n",
    "ds = load_dataset(\"zwhe99/DeepMath-103K\")"
   ]
  },
  {
   "cell_type": "code",
   "execution_count": 3,
   "id": "7380e52e",
   "metadata": {},
   "outputs": [],
   "source": [
    "train_ds = ds['train'][:10000]"
   ]
  },
  {
   "cell_type": "code",
   "execution_count": 4,
   "id": "b58128f9",
   "metadata": {},
   "outputs": [],
   "source": [
    "\n",
    "NUM_SAMPLES = 1000\n",
    "random_indices = random.sample(range(len(train_ds['question'])), NUM_SAMPLES)"
   ]
  },
  {
   "cell_type": "code",
   "execution_count": 5,
   "id": "9560d4d6",
   "metadata": {},
   "outputs": [],
   "source": [
    "train_ds_qs = train_ds['question']\n",
    "reason_1_ds = train_ds['r1_solution_1']\n",
    "reason_2_ds = train_ds['r1_solution_2']\n",
    "reason_3_ds = train_ds['r1_solution_3']"
   ]
  },
  {
   "cell_type": "markdown",
   "id": "99aa73d7",
   "metadata": {},
   "source": [
    "# Preliminary tasks"
   ]
  },
  {
   "cell_type": "markdown",
   "id": "5e4b8150",
   "metadata": {},
   "source": [
    "## Briefly describe the data"
   ]
  },
  {
   "cell_type": "code",
   "execution_count": null,
   "id": "70a49347",
   "metadata": {},
   "outputs": [],
   "source": [
    "# TODO"
   ]
  },
  {
   "cell_type": "markdown",
   "id": "28110471",
   "metadata": {},
   "source": [
    "## Parsing"
   ]
  },
  {
   "cell_type": "markdown",
   "id": "7226ad20",
   "metadata": {},
   "source": [
    "### Notes\n",
    "- [x] Questions have different latex sytanx (`[`, `(`, `$`)\n",
    "- [] How do we tokenize the latex formula?\n",
    "  - [x] `hybrid_tokenize` with word lenght tokens\n",
    "  - [x] pretrained tokenizers from hf\n",
    "  - [] https://github.com/google/sentencepiece"
   ]
  },
  {
   "cell_type": "code",
   "execution_count": 6,
   "id": "5adf135e",
   "metadata": {},
   "outputs": [],
   "source": [
    "train_ds_qs = np.array(train_ds_qs)\n",
    "train_ds_qs = train_ds_qs[random_indices]\n",
    "\n",
    "reason_1_ds = np.array(reason_1_ds)\n",
    "reason_1_ds = reason_1_ds[random_indices]\n",
    "\n",
    "reason_2_ds = np.array(reason_2_ds)\n",
    "reason_2_ds = reason_2_ds[random_indices]\n",
    "\n",
    "reason_3_ds = np.array(reason_3_ds)\n",
    "reason_3_ds = reason_3_ds[random_indices]"
   ]
  },
  {
   "cell_type": "markdown",
   "id": "e692c9eb",
   "metadata": {},
   "source": [
    "### Initial investigation on sympy"
   ]
  },
  {
   "cell_type": "code",
   "execution_count": null,
   "id": "83871f5a",
   "metadata": {},
   "outputs": [],
   "source": [
    "\n",
    "def extract_latex_bracket_content(text):\n",
    "    patterns = [\n",
    "        r'\\\\\\[(.*?)\\\\\\]',  # \\[ ... \\]\n",
    "        r'\\\\\\((.*?)\\\\\\)',  # \\( ... \\)\n",
    "        r'\\$(.*?)\\$',       # $ ... $\n",
    "    ]\n",
    "    # Combine patterns into one\n",
    "    combined_pattern = '|'.join(patterns)\n",
    "    #matches = [m for m in re.findall(combined_pattern, text, flags=re.DOTALL)]\n",
    "    #formulas = [next(filter(None, tup)) for tup in matches]\n",
    "    matches = [m for m in re.findall(combined_pattern, text, flags=re.DOTALL)]\n",
    "    formulas = []\n",
    "    for tup in matches:\n",
    "        non_empty = list(filter(None, tup))\n",
    "        if non_empty:\n",
    "            formulas.append(non_empty[0])\n",
    "    # Use a counter to number the placeholders\n",
    "    def replacer(match, counter=[1]):\n",
    "        placeholder = \"{\" + str(counter[0]-1) + \"}\"\n",
    "        counter[0] += 1\n",
    "        return placeholder\n",
    "    new_text = re.sub(combined_pattern, replacer, text)\n",
    "    return new_text, formulas\n",
    "\n",
    "parsed_indices = []\n",
    "parsed_text = []\n",
    "parsed_formulas = []\n",
    "for i in range(len(train_ds_qs)):\n",
    "    d = train_ds_qs[i]\n",
    "    #print(\"original input:\", d)\n",
    "    text, formulas = extract_latex_bracket_content(d)\n",
    "    #print(\"parsed text: \", text, \"\\nequations: \", formulas)\n",
    "    formulas_sympy = []\n",
    "    num_parsed = 0\n",
    "    for expr in formulas:\n",
    "        try:\n",
    "            parsed = parse_latex(expr)\n",
    "            formulas_sympy.append(parsed)\n",
    "            num_parsed += 1\n",
    "        except Exception as e:\n",
    "            pass\n",
    "            #print(\"Could not parse:\", e)\n",
    "            #print(parsed)\n",
    "    if num_parsed == len(formulas):\n",
    "        parsed_indices.append(i)\n",
    "        parsed_text.append(text)\n",
    "        parsed_formulas.append(formulas_sympy)\n",
    "print(\"correctly parsed\", len(parsed_indices), \"inputs over\", len(train_ds_qs))"
   ]
  },
  {
   "cell_type": "markdown",
   "id": "e3f65762",
   "metadata": {},
   "source": [
    "### Hybrid tokenizer"
   ]
  },
  {
   "cell_type": "code",
   "execution_count": null,
   "id": "5fa8dfa9",
   "metadata": {},
   "outputs": [],
   "source": [
    "def print_sympy_tree(expr, indent=0):\n",
    "    print('  ' * indent + str(expr.func))\n",
    "    for arg in expr.args:\n",
    "        print_sympy_tree(arg, indent + 1)\n",
    "\n",
    "# --- Parse LaTeX into sympy then walk the expression tree ---\n",
    "def flatten_sympy_expr(expr: Basic):\n",
    "    tokens = []\n",
    "\n",
    "    def walk(node):\n",
    "        if isinstance(node, Basic):\n",
    "            args_len = len(node.args)\n",
    "            args = node.args\n",
    "            # If only 1 we build the output as operator + walk(operand)\n",
    "            if args_len == 1:\n",
    "                if isinstance(node, (sympy.Symbol, sympy.Integer, sympy.Rational, sympy.Float)):\n",
    "                    tokens.append(str(node))\n",
    "                else:\n",
    "                    tokens.append(node.func.__name__)\n",
    "                walk(args[0])\n",
    "            # If only 2 we build the output with inorder visit walk(operand0) + operator + walk(operand1)\n",
    "            elif args_len == 2:\n",
    "                walk(args[0])\n",
    "                if isinstance(node, (sympy.Symbol, sympy.Integer, sympy.Rational, sympy.Float)):\n",
    "                    tokens.append(str(node))\n",
    "                else:\n",
    "                    tokens.append(node.func.__name__)\n",
    "                walk(args[1])\n",
    "            # If no operands are found we just add self\n",
    "            elif args_len == 0:\n",
    "                if isinstance(node, (sympy.Symbol, sympy.Integer, sympy.Rational, sympy.Float)):\n",
    "                    tokens.append(str(node))\n",
    "                else:\n",
    "                    tokens.append(node.func.__name__)\n",
    "            # If there are multiple operands (> 2) we add them all after the operator\n",
    "            else:\n",
    "                if isinstance(node, (sympy.Limit, sympy.Integral)):\n",
    "                    args = reversed(args)\n",
    "                if isinstance(node, (sympy.Symbol, sympy.Integer, sympy.Rational, sympy.Float)):\n",
    "                    tokens.append(str(node))\n",
    "                else:\n",
    "                    tokens.append(node.func.__name__)\n",
    "                for arg in args:\n",
    "                    walk(arg)\n",
    "        else:\n",
    "            raise RuntimeError(\"not sympy Basic object\")\n",
    "    \n",
    "    walk(expr)\n",
    "    return tokens\n",
    "\n",
    "# --- Main tokenization function ---\n",
    "def hybrid_tokenize(text):\n",
    "    math_pattern = r'(\\$\\$.*?\\$\\$|\\$.*?\\$|\\\\\\[.*?\\\\\\]|\\\\\\(.*?\\\\\\))'\n",
    "    parts = re.split(math_pattern, text, flags=re.DOTALL)\n",
    "\n",
    "    final_tokens = []\n",
    "    is_erorr = False\n",
    "    for part in parts:\n",
    "        if re.match(math_pattern, part, flags=re.DOTALL):\n",
    "            # Clean math delimiters\n",
    "            clean = re.sub(r'^(\\$+|\\\\\\[|\\\\\\(|\\\\])|(\\$+|\\\\\\]|\\\\\\))$', '', part.strip())\n",
    "            try:\n",
    "                parsed = parse_latex(clean)\n",
    "                math_tokens = flatten_sympy_expr(parsed)\n",
    "                final_tokens.extend(math_tokens)\n",
    "            except Exception as e:\n",
    "                is_erorr = True\n",
    "                final_tokens.extend(clean.split(' '))\n",
    "        else:\n",
    "            final_tokens.extend(re.findall(r'\\b\\w+\\b', part))\n",
    "    return is_erorr, final_tokens\n",
    "\n"
   ]
  },
  {
   "cell_type": "code",
   "execution_count": null,
   "id": "9a3a86d3",
   "metadata": {},
   "outputs": [],
   "source": [
    "\n",
    "parsed_inputs = []\n",
    "not_parsed_inputs = []\n",
    "for d in train_ds_qs:\n",
    "    error, tokens = hybrid_tokenize(d)\n",
    "    if not error:\n",
    "        parsed_inputs.append(tokens)\n",
    "    else:\n",
    "        not_parsed_inputs.append(tokens)\n",
    "\n",
    "\n",
    "print(\"correctly parsed\", len(parsed_inputs), \"inputs over\", len(train_ds_qs))\n",
    "print(\"not parsed\", len(not_parsed_inputs), \"inputs over\", len(train_ds_qs))\n"
   ]
  },
  {
   "cell_type": "code",
   "execution_count": null,
   "id": "99441bbf",
   "metadata": {},
   "outputs": [],
   "source": [
    "not_parsed_inputs[:1]"
   ]
  },
  {
   "cell_type": "markdown",
   "id": "a7fbb31b",
   "metadata": {},
   "source": [
    "### Tokenization with different pretrained"
   ]
  },
  {
   "cell_type": "markdown",
   "id": "6fdeac51",
   "metadata": {},
   "source": [
    "In order to fit all the qs and reasonings we need a large context window tokenizer. We found that 4k of longformer is enough (for random 1000 samples)."
   ]
  },
  {
   "cell_type": "code",
   "execution_count": 7,
   "id": "3047f759",
   "metadata": {},
   "outputs": [],
   "source": [
    "model_name = \"allenai/longformer-base-4096\"\n",
    "#model_name = \"lmsys/longchat-13b-16k\""
   ]
  },
  {
   "cell_type": "code",
   "execution_count": 8,
   "id": "4836d63a",
   "metadata": {},
   "outputs": [],
   "source": [
    "tokenizer = AutoTokenizer.from_pretrained(model_name)"
   ]
  },
  {
   "cell_type": "code",
   "execution_count": 11,
   "id": "f5d893ef",
   "metadata": {},
   "outputs": [],
   "source": [
    "token_ids = []\n",
    "tokens = []\n",
    "for d in train_ds_qs:\n",
    "\t#tokens = tokenizer.tokenize(d)\n",
    "    tokens.append(tokenizer.tokenize(d))\n",
    "    token_ids.append(tokenizer.encode(d))"
   ]
  },
  {
   "cell_type": "code",
   "execution_count": 12,
   "id": "8658c57e",
   "metadata": {},
   "outputs": [],
   "source": [
    "r1_tokens_id = []\n",
    "r1_tokens = []\n",
    "for d in reason_1_ds:\n",
    "\t#tokens = tokenizer.tokenize(d)\n",
    "    r1_tokens.append(tokenizer.tokenize(d))\n",
    "    r1_tokens_id.append(tokenizer.encode(d))"
   ]
  },
  {
   "cell_type": "code",
   "execution_count": null,
   "id": "9f80191c",
   "metadata": {},
   "outputs": [],
   "source": [
    "r2_tokens_id = []\n",
    "r2_tokens = []\n",
    "for d in reason_2_ds:\n",
    "\t#tokens = tokenizer.tokenize(d)\n",
    "    r2_tokens.append(tokenizer.tokenize(d))\n",
    "    r2_tokens_id.append(tokenizer.encode(d))"
   ]
  },
  {
   "cell_type": "code",
   "execution_count": null,
   "id": "913bc81d",
   "metadata": {},
   "outputs": [],
   "source": [
    "r3_tokens_id = []\n",
    "r3_tokens = []\n",
    "for d in reason_3_ds:\n",
    "\t#tokens = tokenizer.tokenize(d)\n",
    "    r3_tokens.append(tokenizer.tokenize(d))\n",
    "    r3_tokens_id.append(tokenizer.encode(d))"
   ]
  },
  {
   "cell_type": "code",
   "execution_count": null,
   "id": "e2289a22",
   "metadata": {},
   "outputs": [],
   "source": [
    "for i in range(3):\n",
    "    print(tokens[i])\n",
    "    print(token_ids[i])\n",
    "    print(len(token_ids[i]))\n",
    "    print(len(tokens[i]))\n"
   ]
  },
  {
   "cell_type": "markdown",
   "id": "595ceebe",
   "metadata": {},
   "source": [
    "## Perform cluster analysis on questions field"
   ]
  },
  {
   "cell_type": "markdown",
   "id": "5403699d",
   "metadata": {},
   "source": [
    "## Perform cluster analysis on questions field"
   ]
  },
  {
   "cell_type": "code",
   "execution_count": null,
   "id": "c65175b6",
   "metadata": {},
   "outputs": [],
   "source": [
    "# TODO"
   ]
  },
  {
   "cell_type": "markdown",
   "id": "873aa8a3",
   "metadata": {},
   "source": [
    "## Perform document index on different fields"
   ]
  },
  {
   "cell_type": "code",
   "execution_count": null,
   "id": "8f25adea",
   "metadata": {},
   "outputs": [],
   "source": [
    "# pip install -q python-terrier==0.11.0 #now there is another version but we don't use it"
   ]
  },
  {
   "cell_type": "code",
   "execution_count": null,
   "id": "5cc2704a",
   "metadata": {},
   "outputs": [],
   "source": [
    "import os\n",
    "os.environ[\"JAVA_HOME\"] = \"/opt/homebrew/Cellar/openjdk@11/11.0.21/libexec/openjdk.jdk/Contents/Home\"\n",
    "os.environ[\"JVM_PATH\"] = \"/opt/homebrew/Cellar/openjdk@11/11.0.26/libexec/openjdk.jdk/Contents/Home/lib/server/libjvm.dylib\""
   ]
  },
  {
   "cell_type": "code",
   "execution_count": null,
   "id": "377f74d7",
   "metadata": {},
   "outputs": [],
   "source": [
    "column_names = train_ds.column_names\n",
    "print(column_names)\n",
    "\n",
    "# 2. Initialize PyTerrier (only once)\n",
    "import pyterrier as pt\n",
    "\n",
    "# google colab\n",
    "#if not pt.started():\n",
    "#  pt.init()\n",
    "\n",
    "# vs code in mac\n",
    "if not pt.java.started():\n",
    "    pt.init()"
   ]
  },
  {
   "cell_type": "markdown",
   "id": "84f9c8f9",
   "metadata": {},
   "source": [
    "### Finding \"quadratic form\" in 'question'"
   ]
  },
  {
   "cell_type": "code",
   "execution_count": null,
   "id": "7d998d9a",
   "metadata": {},
   "outputs": [],
   "source": [
    "# 3. Build a corpus iterator over the 'question' field\n",
    "def get_question_corpus(ds):\n",
    "    for i, example in enumerate(ds):\n",
    "        yield {\n",
    "            'docno': str(i),                          # unique document ID\n",
    "            'question': example['question']           # only the question text\n",
    "        }\n",
    "\n",
    "# 4. Index into a new folder, specifying that we only want the 'question' field\n",
    "pt_index_path = './terrier_deepmath_questions'\n",
    "indexer = pt.index.IterDictIndexer(pt_index_path, overwrite=True, meta_reverse=[])\n",
    "index_ref = indexer.index(\n",
    "    get_question_corpus(train_ds),\n",
    "    fields=('question',),\n",
    "    meta=('docno', 'question')  # store docno + question in the metadata\n",
    ")\n",
    "\n",
    "# 5. Load the index and run a TF-IDF retrieval over the 'question' field\n",
    "index = pt.IndexFactory.of(index_ref)\n",
    "tfidf = pt.BatchRetrieve(index, wmodel=\"TF_IDF\")\n",
    "results = tfidf.search(\"quadratic form\")\n",
    "print(results.head(6))"
   ]
  },
  {
   "cell_type": "markdown",
   "id": "715eff6f",
   "metadata": {},
   "source": [
    "### Perform a 'question' search in only documents with x difficulty"
   ]
  },
  {
   "cell_type": "code",
   "execution_count": null,
   "id": "a28a1053",
   "metadata": {},
   "outputs": [],
   "source": [
    "# Imposto difficulty = 0.0\n",
    "filtered_ds = [ex for ex in train_ds if float(ex['difficulty']) == 0.0]\n",
    "\n",
    "# Build a corpus iterator over the 'question' field\n",
    "def get_question_corpus(ds):\n",
    "    for i, example in enumerate(ds):\n",
    "        yield {\n",
    "            'docno': str(i),                          # unique document ID\n",
    "            'question': example['question']           # only the question text\n",
    "        }\n",
    "\n",
    "# Index into a new folder, specifying that we only want the 'question' field\n",
    "pt_index_path = './terrier_deepmath_questions'\n",
    "indexer = pt.index.IterDictIndexer(pt_index_path, overwrite=True, meta_reverse=[])\n",
    "index_ref = indexer.index(\n",
    "    get_question_corpus(filtered_ds),\n",
    "    fields=('question',),\n",
    "    meta=('docno', 'question')\n",
    ")\n",
    "\n",
    "# Load the index and run a TF-IDF retrieval over the 'question' field\n",
    "index = pt.IndexFactory.of(index_ref)\n",
    "tfidf = pt.BatchRetrieve(index, wmodel=\"TF_IDF\")\n",
    "query = \"quadratic form\"\n",
    "query1 = \"quadratic form optimization minimize\" #puoi mettere piu parole e funziona\n",
    "results = tfidf.search(query)\n",
    "print(results.head(6))"
   ]
  },
  {
   "cell_type": "markdown",
   "id": "a47275de",
   "metadata": {},
   "source": [
    "### Finding 'quadratic form' in more fields (NON RIUSCITO)"
   ]
  },
  {
   "cell_type": "markdown",
   "id": "a027d6f6",
   "metadata": {},
   "source": [
    "## Generate embeddings and analyze them"
   ]
  },
  {
   "cell_type": "code",
   "execution_count": null,
   "id": "f765ad5e",
   "metadata": {},
   "outputs": [
    {
     "data": {
      "image/png": "[encoded data removed]",
      "text/plain": [
       "<Figure size 800x600 with 1 Axes>"
      ]
     },
     "metadata": {},
     "output_type": "display_data"
    }
   ],
   "source": [
    "# Example token IDs (replace with your token IDs)\n",
    "token_id = token_ids[45]\n",
    "\n",
    "model = AutoModel.from_pretrained(model_name)\n",
    "\n",
    "# Convert token IDs to embeddings\n",
    "input_ids = torch.tensor([token_id])  # Add batch dimension\n",
    "with torch.no_grad():\n",
    "    outputs = model(input_ids)\n",
    "    embeddings = outputs.last_hidden_state.squeeze(0)  # Shape: (seq_len, hidden_dim)\n",
    "\n",
    "# Reduce dimensions to 3D using PCA\n",
    "pca = PCA(n_components=3)\n",
    "embeddings_3d = pca.fit_transform(embeddings)\n",
    "\n",
    "# Visualize in 3D\n",
    "fig = plt.figure(figsize=(8, 6))\n",
    "ax = fig.add_subplot(111, projection='3d')\n",
    "ax.scatter(embeddings_3d[:, 0], embeddings_3d[:, 1], embeddings_3d[:, 2], c='blue', marker='o')\n",
    "\n",
    "# Annotate tokens\n",
    "tokens = tokenizer.convert_ids_to_tokens(token_id)\n",
    "for i, token in enumerate(tokens):\n",
    "    ax.text(embeddings_3d[i, 0], embeddings_3d[i, 1], embeddings_3d[i, 2], token, fontsize=9)\n",
    "\n",
    "ax.set_title(\"3D Visualization of Token Embeddings\")\n",
    "plt.show()"
   ]
  },
  {
   "cell_type": "markdown",
   "id": "89738007",
   "metadata": {},
   "source": [
    "# Training"
   ]
  },
  {
   "cell_type": "markdown",
   "id": "0cae7288",
   "metadata": {},
   "source": [
    "## M1C: Base model (topic classification)"
   ]
  },
  {
   "cell_type": "markdown",
   "id": "89af69d2",
   "metadata": {},
   "source": [
    "## M1R: Base model (difficulty regression)"
   ]
  },
  {
   "cell_type": "markdown",
   "id": "c8374fc4",
   "metadata": {},
   "source": [
    "## M1S: Base model (short answer)"
   ]
  },
  {
   "cell_type": "markdown",
   "id": "5b3cd581",
   "metadata": {},
   "source": [
    "## M2: Introduce reasoning"
   ]
  },
  {
   "cell_type": "markdown",
   "id": "21808240",
   "metadata": {},
   "source": [
    "## Comparisons"
   ]
  }
 ],
 "metadata": {
  "kernelspec": {
   "display_name": "nlp",
   "language": "python",
   "name": "python3"
  },
  "language_info": {
   "codemirror_mode": {
    "name": "ipython",
    "version": 3
   },
   "file_extension": ".py",
   "mimetype": "text/x-python",
   "name": "python",
   "nbconvert_exporter": "python",
   "pygments_lexer": "ipython3",
   "version": "3.12.9"
  }
 },
 "nbformat": 4,
 "nbformat_minor": 5
}
