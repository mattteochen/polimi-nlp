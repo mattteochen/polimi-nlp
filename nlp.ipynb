{
 "cells": [
  {
   "cell_type": "code",
   "execution_count": null,
   "id": "fd8fca10",
   "metadata": {},
   "outputs": [],
   "source": [
    "#pip install datasets"
   ]
  },
  {
   "cell_type": "code",
   "execution_count": null,
   "id": "a160b54d",
   "metadata": {},
   "outputs": [],
   "source": [
    "from datasets import load_dataset\n",
    "\n",
    "# Login using e.g. `huggingface-cli login` to access this dataset\n",
    "ds = load_dataset(\"zwhe99/DeepMath-103K\")"
   ]
  },
  {
   "cell_type": "code",
   "execution_count": null,
   "id": "7380e52e",
   "metadata": {},
   "outputs": [],
   "source": [
    "train_ds = ds['train']\n",
    "train_ds[1]"
   ]
  },
  {
   "cell_type": "markdown",
   "id": "99aa73d7",
   "metadata": {},
   "source": [
    "# Preliminary tasks"
   ]
  },
  {
   "cell_type": "markdown",
   "id": "5e4b8150",
   "metadata": {},
   "source": [
    "## Briefly describe the data"
   ]
  },
  {
   "cell_type": "code",
   "execution_count": null,
   "id": "70a49347",
   "metadata": {},
   "outputs": [],
   "source": [
    "# TODO"
   ]
  },
  {
   "cell_type": "markdown",
   "id": "595ceebe",
   "metadata": {},
   "source": [
    "## Perform cluster analysis on questions field"
   ]
  },
  {
   "cell_type": "code",
   "execution_count": null,
   "id": "c65175b6",
   "metadata": {},
   "outputs": [],
   "source": [
    "# TODO"
   ]
  },
  {
   "cell_type": "markdown",
   "id": "873aa8a3",
   "metadata": {},
   "source": [
    "## Perform document index on different fields"
   ]
  },
  {
   "cell_type": "code",
   "execution_count": null,
   "id": "8f25adea",
   "metadata": {},
   "outputs": [],
   "source": [
    "# pip install -q python-terrier==0.11.0 #now there is another version but we don't use it"
   ]
  },
  {
   "cell_type": "code",
   "execution_count": null,
   "id": "377f74d7",
   "metadata": {},
   "outputs": [],
   "source": [
    "column_names = train_ds.column_names\n",
    "print(column_names)\n",
    "\n",
    "# 2. Initialize PyTerrier (only once)\n",
    "import pyterrier as pt\n",
    "\n",
    "# google colab\n",
    "#if not pt.started():\n",
    "#  pt.init()\n",
    "\n",
    "# vs code in mac\n",
    "if not pt.java.started():\n",
    "    pt.init()"
   ]
  },
  {
   "cell_type": "markdown",
   "id": "84f9c8f9",
   "metadata": {},
   "source": [
    "### Finding \"quadratic form\" in 'question'"
   ]
  },
  {
   "cell_type": "code",
   "execution_count": null,
   "id": "7d998d9a",
   "metadata": {},
   "outputs": [],
   "source": [
    "# 3. Build a corpus iterator over the 'question' field\n",
    "def get_question_corpus(ds):\n",
    "    for i, example in enumerate(ds):\n",
    "        yield {\n",
    "            'docno': str(i),                          # unique document ID\n",
    "            'question': example['question']           # only the question text\n",
    "        }\n",
    "\n",
    "# 4. Index into a new folder, specifying that we only want the 'question' field\n",
    "pt_index_path = './terrier_deepmath_questions'\n",
    "indexer = pt.index.IterDictIndexer(pt_index_path, overwrite=True, meta_reverse=[])\n",
    "index_ref = indexer.index(\n",
    "    get_question_corpus(train_ds),\n",
    "    fields=('question',),\n",
    "    meta=('docno', 'question')  # store docno + question in the metadata\n",
    ")\n",
    "\n",
    "# 5. Load the index and run a TF-IDF retrieval over the 'question' field\n",
    "index = pt.IndexFactory.of(index_ref)\n",
    "tfidf = pt.BatchRetrieve(index, wmodel=\"TF_IDF\")\n",
    "results = tfidf.search(\"quadratic form\")\n",
    "print(results.head(6))"
   ]
  },
  {
   "cell_type": "markdown",
   "id": "715eff6f",
   "metadata": {},
   "source": [
    "### Perform a 'question' search in only documents with x difficulty"
   ]
  },
  {
   "cell_type": "code",
   "execution_count": null,
   "id": "a28a1053",
   "metadata": {},
   "outputs": [],
   "source": [
    "# Imposto difficulty = 0.0\n",
    "filtered_ds = [ex for ex in train_ds if float(ex['difficulty']) == 0.0]\n",
    "\n",
    "# Build a corpus iterator over the 'question' field\n",
    "def get_question_corpus(ds):\n",
    "    for i, example in enumerate(ds):\n",
    "        yield {\n",
    "            'docno': str(i),                          # unique document ID\n",
    "            'question': example['question']           # only the question text\n",
    "        }\n",
    "\n",
    "# Index into a new folder, specifying that we only want the 'question' field\n",
    "pt_index_path = './terrier_deepmath_questions'\n",
    "indexer = pt.index.IterDictIndexer(pt_index_path, overwrite=True, meta_reverse=[])\n",
    "index_ref = indexer.index(\n",
    "    get_question_corpus(filtered_ds),\n",
    "    fields=('question',),\n",
    "    meta=('docno', 'question')\n",
    ")\n",
    "\n",
    "# Load the index and run a TF-IDF retrieval over the 'question' field\n",
    "index = pt.IndexFactory.of(index_ref)\n",
    "tfidf = pt.BatchRetrieve(index, wmodel=\"TF_IDF\")\n",
    "query = \"quadratic form\"\n",
    "query1 = \"quadratic form optimization minimize\" #puoi mettere piu parole e funziona\n",
    "results = tfidf.search(query)\n",
    "print(results.head(6))"
   ]
  },
  {
   "cell_type": "markdown",
   "id": "a47275de",
   "metadata": {},
   "source": [
    "### Finding 'quadratic form' in more fields (NON RIUSCITO)"
   ]
  },
  {
   "cell_type": "markdown",
   "id": "a027d6f6",
   "metadata": {},
   "source": [
    "## Generate embeddings and analyze them"
   ]
  },
  {
   "cell_type": "code",
   "execution_count": null,
   "id": "f765ad5e",
   "metadata": {},
   "outputs": [],
   "source": [
    "# TODO"
   ]
  },
  {
   "cell_type": "markdown",
   "id": "89738007",
   "metadata": {},
   "source": [
    "# Training"
   ]
  },
  {
   "cell_type": "markdown",
   "id": "0cae7288",
   "metadata": {},
   "source": [
    "## M1C: Base model (topic classification)"
   ]
  },
  {
   "cell_type": "markdown",
   "id": "89af69d2",
   "metadata": {},
   "source": [
    "## M1R: Base model (difficulty regression)"
   ]
  },
  {
   "cell_type": "markdown",
   "id": "c8374fc4",
   "metadata": {},
   "source": [
    "## M1S: Base model (short answer)"
   ]
  },
  {
   "cell_type": "markdown",
   "id": "5b3cd581",
   "metadata": {},
   "source": [
    "## M2: Introduce reasoning"
   ]
  },
  {
   "cell_type": "markdown",
   "id": "21808240",
   "metadata": {},
   "source": [
    "## Comparisons"
   ]
  }
 ],
 "metadata": {
  "kernelspec": {
   "display_name": "Python 3",
   "language": "python",
   "name": "python3"
  },
  "language_info": {
   "codemirror_mode": {
    "name": "ipython",
    "version": 3
   },
   "file_extension": ".py",
   "mimetype": "text/x-python",
   "name": "python",
   "nbconvert_exporter": "python",
   "pygments_lexer": "ipython3",
   "version": "3.9.6"
  }
 },
 "nbformat": 4,
 "nbformat_minor": 5
}
