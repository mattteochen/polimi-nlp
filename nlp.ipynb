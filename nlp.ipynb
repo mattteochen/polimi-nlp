{
 "cells": [
  {
   "cell_type": "code",
   "execution_count": null,
   "id": "a160b54d",
   "metadata": {},
   "outputs": [],
   "source": [
    "from datasets import load_dataset\n",
    "\n",
    "# Login using e.g. `huggingface-cli login` to access this dataset\n",
    "ds = load_dataset(\"zwhe99/DeepMath-103K\")"
   ]
  },
  {
   "cell_type": "code",
   "execution_count": null,
   "id": "7380e52e",
   "metadata": {},
   "outputs": [],
   "source": [
    "train_ds = ds['train']\n",
    "train_ds[1]"
   ]
  },
  {
   "cell_type": "markdown",
   "id": "99aa73d7",
   "metadata": {},
   "source": [
    "# Preliminary tasks"
   ]
  },
  {
   "cell_type": "markdown",
   "id": "5e4b8150",
   "metadata": {},
   "source": [
    "## Briefly describe the data"
   ]
  },
  {
   "cell_type": "code",
   "execution_count": null,
   "id": "70a49347",
   "metadata": {},
   "outputs": [],
   "source": [
    "# TODO"
   ]
  },
  {
   "cell_type": "markdown",
   "id": "595ceebe",
   "metadata": {},
   "source": [
    "## Perform cluster analysis on questions field"
   ]
  },
  {
   "cell_type": "code",
   "execution_count": null,
   "id": "c65175b6",
   "metadata": {},
   "outputs": [],
   "source": [
    "# TODO"
   ]
  },
  {
   "cell_type": "markdown",
   "id": "873aa8a3",
   "metadata": {},
   "source": [
    "## Perform document index on different fields"
   ]
  },
  {
   "cell_type": "code",
   "execution_count": null,
   "id": "377f74d7",
   "metadata": {},
   "outputs": [],
   "source": [
    "# TODO"
   ]
  },
  {
   "cell_type": "markdown",
   "id": "a027d6f6",
   "metadata": {},
   "source": [
    "## Generate embeddings and analyze them"
   ]
  },
  {
   "cell_type": "code",
   "execution_count": null,
   "id": "f765ad5e",
   "metadata": {},
   "outputs": [],
   "source": [
    "# TODO"
   ]
  },
  {
   "cell_type": "markdown",
   "id": "89738007",
   "metadata": {},
   "source": [
    "# Training"
   ]
  },
  {
   "cell_type": "markdown",
   "id": "0cae7288",
   "metadata": {},
   "source": [
    "## M1C: Base model (topic classification)"
   ]
  },
  {
   "cell_type": "markdown",
   "id": "89af69d2",
   "metadata": {},
   "source": [
    "## M1R: Base model (difficulty regression)"
   ]
  },
  {
   "cell_type": "markdown",
   "id": "c8374fc4",
   "metadata": {},
   "source": [
    "## M1S: Base model (short answer)"
   ]
  },
  {
   "cell_type": "markdown",
   "id": "5b3cd581",
   "metadata": {},
   "source": [
    "## M2: Introduce reasoning"
   ]
  },
  {
   "cell_type": "markdown",
   "id": "21808240",
   "metadata": {},
   "source": [
    "## Comparisons"
   ]
  }
 ],
 "metadata": {
  "kernelspec": {
   "display_name": "anndl",
   "language": "python",
   "name": "python3"
  },
  "language_info": {
   "codemirror_mode": {
    "name": "ipython",
    "version": 3
   },
   "file_extension": ".py",
   "mimetype": "text/x-python",
   "name": "python",
   "nbconvert_exporter": "python",
   "pygments_lexer": "ipython3",
   "version": "3.10.15"
  }
 },
 "nbformat": 4,
 "nbformat_minor": 5
}
